{
 "cells": [
  {
   "cell_type": "code",
   "execution_count": 7,
   "metadata": {},
   "outputs": [],
   "source": [
    "txt = open('/home/mini/study/Yolo_mark/x64/Release/data/train.txt','r')\n",
    "f = open('/home/mini/study/Yolo_mark/x64/Release/data/train2.txt','w')\n",
    "while True :\n",
    "    line = txt.readline()\n",
    "    if not line:\n",
    "        break\n",
    "    f.write('/home/mini/study/Yolo_mark/'+line)\n",
    "        \n",
    "txt.close()\n",
    "f.close()"
   ]
  }
 ],
 "metadata": {
  "kernelspec": {
   "display_name": "Python 3",
   "language": "python",
   "name": "python3"
  },
  "language_info": {
   "codemirror_mode": {
    "name": "ipython",
    "version": 3
   },
   "file_extension": ".py",
   "mimetype": "text/x-python",
   "name": "python",
   "nbconvert_exporter": "python",
   "pygments_lexer": "ipython3",
   "version": "3.7.9"
  }
 },
 "nbformat": 4,
 "nbformat_minor": 4
}
