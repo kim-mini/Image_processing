{
 "cells": [
  {
   "cell_type": "code",
   "execution_count": 2,
   "metadata": {},
   "outputs": [],
   "source": [
    "import cv2\n",
    "import matplotlib.pyplot as plt\n",
    "import numpy as np"
   ]
  },
  {
   "cell_type": "code",
   "execution_count": 19,
   "metadata": {},
   "outputs": [
    {
     "data": {
      "text/plain": [
       "<function matplotlib.pyplot.show(close=None, block=None)>"
      ]
     },
     "execution_count": 19,
     "metadata": {},
     "output_type": "execute_result"
    },
    {
     "data": {
      "image/png": "[encoded data removed]",
      "text/plain": [
       "<Figure size 432x288 with 6 Axes>"
      ]
     },
     "metadata": {},
     "output_type": "display_data"
    }
   ],
   "source": [
    "img1 = np.zeros((200,400),dtype=np.uint8)\n",
    "img2 = np.zeros((200,400),dtype=np.uint8)\n",
    "\n",
    "img1[:,:200] = 255\n",
    "img2[100:,:] = 255\n",
    "\n",
    "bitand = cv2.bitwise_and(img1,img2)\n",
    "bitor = cv2.bitwise_or(img1,img2)\n",
    "bitxor = cv2.bitwise_xor(img1,img2)\n",
    "bitnot = cv2.bitwise_not(img1)\n",
    "\n",
    "imgs = {'1':img1, '2':img2, 'and':bitand, 'or':bitor, 'xor':bitxor, 'not':bitnot}\n",
    "\n",
    "for i,(key,value) in enumerate(imgs.items()):\n",
    "    plt.subplot(3,2,i+1)\n",
    "    plt.title(key)\n",
    "    plt.imshow(value,'gray')\n",
    "    plt.xticks([])\n",
    "    plt.yticks([])\n",
    "#     plt.axis('off')\n",
    "plt.show\n",
    "    "
   ]
  },
  {
   "cell_type": "code",
   "execution_count": null,
   "metadata": {},
   "outputs": [],
   "source": []
  },
  {
   "cell_type": "code",
   "execution_count": null,
   "metadata": {},
   "outputs": [],
   "source": []
  },
  {
   "cell_type": "code",
   "execution_count": null,
   "metadata": {},
   "outputs": [],
   "source": []
  }
 ],
 "metadata": {
  "kernelspec": {
   "display_name": "Python 3",
   "language": "python",
   "name": "python3"
  },
  "language_info": {
   "codemirror_mode": {
    "name": "ipython",
    "version": 3
   },
   "file_extension": ".py",
   "mimetype": "text/x-python",
   "name": "python",
   "nbconvert_exporter": "python",
   "pygments_lexer": "ipython3",
   "version": "3.7.9"
  }
 },
 "nbformat": 4,
 "nbformat_minor": 4
}
