{
 "cells": [
  {
   "cell_type": "code",
   "execution_count": 6,
   "metadata": {},
   "outputs": [],
   "source": [
    "import os "
   ]
  },
  {
   "cell_type": "code",
   "execution_count": 7,
   "metadata": {},
   "outputs": [],
   "source": [
    "cnt = 1\n",
    "path= '/home/mini/Downloads/choco/'\n",
    "fileList=os.listdir(path)\n",
    "\n",
    "for filename in fileList:\n",
    "    if filename == 'Untitled.ipynb':\n",
    "        break\n",
    "        \n",
    "    srcpath=os.path.join(path,filename)\n",
    "    if cnt<10:\n",
    "        dstname='choco_00{}.jpg'.format(cnt)\n",
    "    elif cnt>=10:\n",
    "        dstname='choco_0{}.jpg'.format(cnt)\n",
    "    dstpath=os.path.join(path,dstname)\n",
    "        \n",
    "    os.rename(srcpath,dstpath)\n",
    "    cnt += 1"
   ]
  },
  {
   "cell_type": "code",
   "execution_count": null,
   "metadata": {},
   "outputs": [],
   "source": []
  }
 ],
 "metadata": {
  "kernelspec": {
   "display_name": "Python 3",
   "language": "python",
   "name": "python3"
  },
  "language_info": {
   "codemirror_mode": {
    "name": "ipython",
    "version": 3
   },
   "file_extension": ".py",
   "mimetype": "text/x-python",
   "name": "python",
   "nbconvert_exporter": "python",
   "pygments_lexer": "ipython3",
   "version": "3.7.9"
  }
 },
 "nbformat": 4,
 "nbformat_minor": 4
}
