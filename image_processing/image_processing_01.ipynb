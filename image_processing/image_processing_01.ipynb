{
 "cells": [
  {
   "cell_type": "code",
   "execution_count": 1,
   "metadata": {},
   "outputs": [],
   "source": [
    "import cv2\n",
    "import pafy"
   ]
  },
  {
   "cell_type": "markdown",
   "metadata": {},
   "source": [
    "## 유투브에서 영상 가져오기"
   ]
  },
  {
   "cell_type": "code",
   "execution_count": 2,
   "metadata": {},
   "outputs": [],
   "source": [
    "url =\"https://www.youtube.com/watch?v=aAkMkVFwAoo\"\n",
    "video = pafy.new(url)"
   ]
  },
  {
   "cell_type": "code",
   "execution_count": 3,
   "metadata": {},
   "outputs": [
    {
     "name": "stdout",
     "output_type": "stream",
     "text": [
      "best resolution :  640x320\n"
     ]
    }
   ],
   "source": [
    "best = video.getbest(preftype=\"mp4\")\n",
    "print('best resolution : ',best.resolution)"
   ]
  },
  {
   "cell_type": "code",
   "execution_count": 4,
   "metadata": {},
   "outputs": [],
   "source": [
    "cap = cv2.VideoCapture(best.url)"
   ]
  },
  {
   "cell_type": "markdown",
   "metadata": {},
   "source": [
    "## 영상 정보 가져오기"
   ]
  },
  {
   "cell_type": "code",
   "execution_count": 5,
   "metadata": {},
   "outputs": [
    {
     "name": "stdout",
     "output_type": "stream",
     "text": [
      "(640, 320)\n",
      "23.976023976023978\n"
     ]
    }
   ],
   "source": [
    "# 영상의 가로, 세로\n",
    "FrameSize = (int(cap.get(cv2.CAP_PROP_FRAME_WIDTH))), (int(cap.get(cv2.CAP_PROP_FRAME_HEIGHT)))\n",
    "# 영상의 framerate\n",
    "FrameRate = cap.get(cv2.CAP_PROP_FPS)\n",
    "\n",
    "print(FrameSize)\n",
    "print(FrameRate)"
   ]
  },
  {
   "cell_type": "code",
   "execution_count": 6,
   "metadata": {},
   "outputs": [
    {
     "name": "stdout",
     "output_type": "stream",
     "text": [
      "41 <class 'int'>\n"
     ]
    }
   ],
   "source": [
    "fourcc = cv2.VideoWriter_fourcc(*'mp4v')\n",
    "outpath = '/home/mini/Videos/mini/record.mp4'\n",
    "out = cv2.VideoWriter(outpath,fourcc,FrameRate,FrameSize)\n",
    "\n",
    "delay = int(1000/FrameRate)\n",
    "print(delay, type(delay))"
   ]
  },
  {
   "cell_type": "code",
   "execution_count": null,
   "metadata": {},
   "outputs": [],
   "source": [
    "while 1:\n",
    "    ret, frame = cap.read()\n",
    "    # 위에서 리턴되는 ret값은 영상의 프레임을 읽어오면 1, 아니면 0의 값을 가진다\n",
    "    if not(ret):\n",
    "        break\n",
    "        \n",
    "    # f = cv2.cvtColor(frame,cv2.COLOR_BGR2RGB)\n",
    "    \n",
    "    # 동영상 파일 저장하기\n",
    "    out.write(frame)\n",
    "    \n",
    "    cv2.imshow('mariah carey',frame)\n",
    "    cv2.waitKey(delay)\n",
    "\n",
    "# 동영상 파일이 열려있다면     \n",
    "if cap.isOpened():\n",
    "    # 닫아주기\n",
    "    cap.release()\n",
    "    out.release()\n",
    "    \n",
    "cv2.destroyAllWindows()"
   ]
  },
  {
   "cell_type": "code",
   "execution_count": null,
   "metadata": {},
   "outputs": [],
   "source": []
  }
 ],
 "metadata": {
  "kernelspec": {
   "display_name": "Python 3",
   "language": "python",
   "name": "python3"
  },
  "language_info": {
   "codemirror_mode": {
    "name": "ipython",
    "version": 3
   },
   "file_extension": ".py",
   "mimetype": "text/x-python",
   "name": "python",
   "nbconvert_exporter": "python",
   "pygments_lexer": "ipython3",
   "version": "3.7.9"
  }
 },
 "nbformat": 4,
 "nbformat_minor": 4
}
