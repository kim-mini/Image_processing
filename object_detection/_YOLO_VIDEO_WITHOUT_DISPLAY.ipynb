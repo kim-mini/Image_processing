{
 "cells": [
  {
   "cell_type": "markdown",
   "metadata": {
    "id": "ewqaT7mA6IBF"
   },
   "source": [
    "##Run YOLO V3 on Colab for images/Videos"
   ]
  },
  {
   "cell_type": "code",
   "execution_count": null,
   "metadata": {
    "id": "5nxbcBUm6TTd"
   },
   "outputs": [],
   "source": [
    "#반복 실행시 darknet 디렉토리를 삭제한다.\n",
    "#!rm -rf darknet\n",
    "!git clone https://github.com/AlexeyAB/darknet/"
   ]
  },
  {
   "cell_type": "code",
   "execution_count": null,
   "metadata": {
    "id": "4Xd1V6Te6YD7"
   },
   "outputs": [],
   "source": [
    "%cd darknet\n",
    "!ls\n",
    "%cd .."
   ]
  },
  {
   "cell_type": "code",
   "execution_count": null,
   "metadata": {
    "id": "jJ89yC3IEDM1"
   },
   "outputs": [],
   "source": [
    "%cd darknet\n",
    "!sed -i 's/OPENCV=0/OPENCV=1/g' Makefile\n",
    "!sed -i 's/GPU=0/GPU=1/g' Makefile"
   ]
  },
  {
   "cell_type": "code",
   "execution_count": null,
   "metadata": {
    "id": "gkZHpyOOEze0"
   },
   "outputs": [],
   "source": [
    "!cat Makefile"
   ]
  },
  {
   "cell_type": "code",
   "execution_count": null,
   "metadata": {
    "id": "Bu8OPeitE7WT"
   },
   "outputs": [],
   "source": [
    "!apt-get install libopencv-dev python-opencv ffmpeg"
   ]
  },
  {
   "cell_type": "code",
   "execution_count": null,
   "metadata": {
    "id": "TG70KhYgFQmg",
    "scrolled": true
   },
   "outputs": [],
   "source": [
    "#Running make\n",
    "!make"
   ]
  },
  {
   "cell_type": "code",
   "execution_count": null,
   "metadata": {
    "id": "DSHAM_YOFfgl"
   },
   "outputs": [],
   "source": [
    "# yolo v3는 tensorflow나 keras같은 일반적인 딥러닝 프레임 워크를 사용하지않고\n",
    "# darknet이라고 하는 자기 나름의 딥러닝 프레임 워크를 가지고 있다 (c++ 기반)\n",
    "# darknet : darknet이라는 딥러닝 프레임 워크를 컴파일한 실행파일(conv, maxpooling, dence)\n",
    "# cfg : darknet을 기반으로 한 yolo V3레이어를 정의하고 내부에서 사용하는 파라미터값도 함께 포함하고 있다\n",
    "# weights : yolov3.weights -> ms coco 데이터셋(80개 클래스)을 가져다가 yolo v3 에 적용하여 학습한 결과 파일\n",
    "# 학습에 소요되는 시간 : GTX1080Ti or RTX 2080Ti기준 약 15일정도 소요\n",
    "\n",
    "# coco data로 학습되어진 파일을 가지고 온다\n",
    "!wget https://pjreddie.com/media/files/yolov3.weights\n",
    "    \n",
    "# opencv=1로 옵션을 설정해 놓으면 pc에서는 영상의 결과물이 창으로 뜬다 (cv2.imshow)\n",
    "!./darknet detect cfg/yolov3.cfg yolov3.weights data/dog.jpg"
   ]
  },
  {
   "cell_type": "code",
   "execution_count": null,
   "metadata": {
    "id": "efnYpOmBGmxT"
   },
   "outputs": [],
   "source": [
    "!ls"
   ]
  },
  {
   "cell_type": "code",
   "execution_count": null,
   "metadata": {},
   "outputs": [],
   "source": [
    "%cd .."
   ]
  },
  {
   "cell_type": "code",
   "execution_count": null,
   "metadata": {
    "id": "yFtVz0FDG_fj"
   },
   "outputs": [],
   "source": [
    "import cv2\n",
    "import matplotlib.pyplot as plt\n",
    "%matplotlib inline\n",
    "\n",
    "image=cv2.imread(\"predictions.jpg\")\n",
    "height, width =image.shape[:2]\n",
    "resized_image=cv2.resize(image, (3*width, 3*height), interpolation=cv2.INTER_CUBIC)\n",
    "\n",
    "fig = plt.gcf()\n",
    "fig.set_size_inches(18,10)\n",
    "plt.axis(\"off\")\n",
    "plt.imshow(cv2.cvtColor(resized_image, cv2.COLOR_BGR2RGB))\n",
    "plt.show()"
   ]
  },
  {
   "cell_type": "code",
   "execution_count": null,
   "metadata": {
    "scrolled": true
   },
   "outputs": [],
   "source": [
    "!./darknet detector test cfg/coco.data cfg/yolov3.cfg yolov3.weights data/dog.jpg"
   ]
  },
  {
   "cell_type": "code",
   "execution_count": null,
   "metadata": {},
   "outputs": [],
   "source": [
    "pwd"
   ]
  },
  {
   "cell_type": "code",
   "execution_count": null,
   "metadata": {
    "id": "jH34Lpg1HQsb"
   },
   "outputs": [],
   "source": [
    "#현재 작업환경에 내 구글 드라이브를 마운트하기\n",
    "from google.colab import drive\n",
    "drive.mount('/content/gdrive')\n",
    "\n",
    "#구글드라이브가 올라왔는지 확인\n",
    "#with open('/content/gdrive/My Drive/foo.txt','w') as f:\n",
    "#  f.write(\"Hello Google Drive!\")\n",
    "\n",
    "#!cat /content/gdrive/My\\ Drive/foo.txt"
   ]
  },
  {
   "cell_type": "code",
   "execution_count": null,
   "metadata": {
    "id": "IQ9BiB-yMMKO"
   },
   "outputs": [],
   "source": [
    "# !./darknet detector demo cfg/coco.data cfg/yolov3.cfg yolov3.weights -dont_show ./road.mp4 -i 0 -out_filename ./roadOut.mp4\n",
    "!./darknet detector demo cfg/coco.data cfg/yolov3.cfg yolov3.weights -dont_show ./road.mp4 -i 0 -out_filename ./roadOut.mp4"
   ]
  },
  {
   "cell_type": "code",
   "execution_count": null,
   "metadata": {
    "id": "wszL7VDjKQRW"
   },
   "outputs": [],
   "source": []
  }
 ],
 "metadata": {
  "accelerator": "GPU",
  "colab": {
   "name": "YOLO_VIDEO_WITHOUT_DISPLAY.ipynb",
   "private_outputs": true,
   "provenance": []
  },
  "kernelspec": {
   "display_name": "Python 3",
   "language": "python",
   "name": "python3"
  },
  "language_info": {
   "codemirror_mode": {
    "name": "ipython",
    "version": 3
   },
   "file_extension": ".py",
   "mimetype": "text/x-python",
   "name": "python",
   "nbconvert_exporter": "python",
   "pygments_lexer": "ipython3",
   "version": "3.7.9"
  }
 },
 "nbformat": 4,
 "nbformat_minor": 1
}
