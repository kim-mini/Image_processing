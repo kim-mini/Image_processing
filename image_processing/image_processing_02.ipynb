{
 "cells": [
  {
   "cell_type": "markdown",
   "metadata": {},
   "source": [
    "# 마우스로 관심영역 지정"
   ]
  },
  {
   "cell_type": "code",
   "execution_count": 1,
   "metadata": {},
   "outputs": [],
   "source": [
    "import cv2\n",
    "import numpy as np"
   ]
  },
  {
   "cell_type": "code",
   "execution_count": 2,
   "metadata": {},
   "outputs": [],
   "source": [
    "# 마우스 드래그 상태 설정\n",
    "isDragging = False\n",
    "# 영역 선택 좌표 저장\n",
    "x0,y0,w,h = -1,-1,-1,-1\n",
    "# 색상 값\n",
    "blue, red = (255,0,0),(0,0,255)\n",
    "title = 'img'\n"
   ]
  },
  {
   "cell_type": "code",
   "execution_count": 8,
   "metadata": {},
   "outputs": [],
   "source": [
    "# 마우스 이벤트 핸들 함수\n",
    "def onMouse(event,x,y,flages,param):\n",
    "    global isDragging, x0,y0,w,h\n",
    "    if event == cv2.EVENT_LBUTTONDOWN:\n",
    "        isDragging = True\n",
    "        x0 = x\n",
    "        y0 = y\n",
    "    elif event == cv2.EVENT_MOUSEMOVE:\n",
    "        # 드래그 진행 중\n",
    "        if isDragging:\n",
    "            img_draw = img.copy()\n",
    "            cv2.rectangle(img_draw,(x0,y0),(x,y),blue,2)\n",
    "            # 사각형으로 표시된 그림 화면 출력\n",
    "            cv2.imshow(title,img_draw)\n",
    "    elif event == cv2.EVENT_LBUTTONUP:\n",
    "        if isDragging:\n",
    "            isDragging = False\n",
    "            if x0 > x:\n",
    "                temp = x\n",
    "                x = x0\n",
    "                x0 =temp\n",
    "            if y0 > y:\n",
    "                temp = y\n",
    "                y = y0\n",
    "                y0 = temp\n",
    "                \n",
    "            w = x - x0\n",
    "            h = y - y0\n",
    "            \n",
    "            if w > 0 and h > 0:\n",
    "                img_draw = img.copy()\n",
    "                cv2.rectangle(img_draw,(x0,y0),(x,y),red,2)\n",
    "                cv2.imshow(title,img_draw)\n",
    "                roi = img[y0:y0+h, x0:x0+w]\n",
    "                # roi지정 영역을 새 창으로 표시\n",
    "                cv2.imshow('crop',roi)\n",
    "                # 새 창을 화면 좌측 상단으로 이동\n",
    "                cv2.moveWindow('crop',0,0)\n",
    "                "
   ]
  },
  {
   "cell_type": "code",
   "execution_count": 13,
   "metadata": {},
   "outputs": [],
   "source": [
    "path = './img/dog_01.jpg'\n",
    "img = cv2.imread(path)\n",
    "cv2.imshow(title,img)\n",
    "cv2.setMouseCallback(title,onMouse)\n",
    "cv2.waitKey()\n",
    "cv2.destroyAllWindows()"
   ]
  },
  {
   "cell_type": "code",
   "execution_count": null,
   "metadata": {},
   "outputs": [],
   "source": []
  }
 ],
 "metadata": {
  "kernelspec": {
   "display_name": "Python 3",
   "language": "python",
   "name": "python3"
  },
  "language_info": {
   "codemirror_mode": {
    "name": "ipython",
    "version": 3
   },
   "file_extension": ".py",
   "mimetype": "text/x-python",
   "name": "python",
   "nbconvert_exporter": "python",
   "pygments_lexer": "ipython3",
   "version": "3.7.9"
  }
 },
 "nbformat": 4,
 "nbformat_minor": 4
}
