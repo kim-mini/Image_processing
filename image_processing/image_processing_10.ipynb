{
 "cells": [
  {
   "cell_type": "code",
   "execution_count": 1,
   "metadata": {},
   "outputs": [],
   "source": [
    "import cv2\n",
    "import numpy as np"
   ]
  },
  {
   "cell_type": "code",
   "execution_count": 4,
   "metadata": {
    "scrolled": true
   },
   "outputs": [
    {
     "name": "stdout",
     "output_type": "stream",
     "text": [
      "720.0 404.0 24.00282386163078\n"
     ]
    }
   ],
   "source": [
    "path = './img/detection2.mp4'\n",
    "\n",
    "cap = cv2.VideoCapture(path)\n",
    "\n",
    "w = cap.get(cv2.CAP_PROP_FRAME_WIDTH)\n",
    "h = cap.get(cv2.CAP_PROP_FRAME_HEIGHT)\n",
    "FPS = cap.get(cv2.CAP_PROP_FPS)\n",
    "delay = int(1000/FPS)\n",
    "print(w, h, FPS)\n",
    "\n",
    "while True:\n",
    "    ret, frame = cap.read()\n",
    "    \n",
    "    if ret:\n",
    "        frame = cv2.rotate(frame,cv2.ROTATE_90_CLOCKWISE)\n",
    "        #cv2.imshow(path,frame)\n",
    "        hsv_frame = cv2.cvtColor(frame, cv2.COLOR_BGR2HSV)\n",
    "        lowskin = np.array([0,110,85])\n",
    "        upskin = np.array([20,255,255])        \n",
    "        mask_c = cv2.inRange(hsv_frame,lowskin,upskin)\n",
    "        \n",
    "        contours, _ = cv2.findContours(mask_c, cv2.RETR_LIST,cv2.CHAIN_APPROX_SIMPLE)\n",
    "        for cnt in contours:\n",
    "            cv2.drawContours(frame, [cnt], 0, (255,0,0),2)\n",
    "        cv2.imshow('gray',frame)\n",
    "        \n",
    "    else :\n",
    "        break\n",
    "    # 무한반복\n",
    "    if (cap.get(cv2.CAP_PROP_POS_FRAMES) == cap.get(cv2.CAP_PROP_FRAME_COUNT)):\n",
    "        cap.open(path)\n",
    "        \n",
    "    if cv2.waitKey(delay) == ord('q'):\n",
    "        break\n",
    "        \n",
    "cap.release()\n",
    "cv2.destroyAllWindows()"
   ]
  },
  {
   "cell_type": "code",
   "execution_count": null,
   "metadata": {},
   "outputs": [],
   "source": []
  }
 ],
 "metadata": {
  "kernelspec": {
   "display_name": "Python 3",
   "language": "python",
   "name": "python3"
  },
  "language_info": {
   "codemirror_mode": {
    "name": "ipython",
    "version": 3
   },
   "file_extension": ".py",
   "mimetype": "text/x-python",
   "name": "python",
   "nbconvert_exporter": "python",
   "pygments_lexer": "ipython3",
   "version": "3.7.9"
  }
 },
 "nbformat": 4,
 "nbformat_minor": 4
}
