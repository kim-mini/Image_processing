{
 "cells": [
  {
   "cell_type": "markdown",
   "metadata": {},
   "source": [
    "## object detection"
   ]
  },
  {
   "cell_type": "code",
   "execution_count": 1,
   "metadata": {},
   "outputs": [],
   "source": [
    "import cv2\n",
    "import numpy as np"
   ]
  },
  {
   "cell_type": "code",
   "execution_count": 2,
   "metadata": {
    "scrolled": true
   },
   "outputs": [],
   "source": [
    "path = './img/detection3.mp4'\n",
    "cap = cv2.VideoCapture(path)\n"
   ]
  },
  {
   "cell_type": "code",
   "execution_count": 3,
   "metadata": {},
   "outputs": [
    {
     "name": "stdout",
     "output_type": "stream",
     "text": [
      "720.0 404.0 24.003879414854925\n"
     ]
    }
   ],
   "source": [
    "w = cap.get(cv2.CAP_PROP_FRAME_WIDTH)\n",
    "h = cap.get(cv2.CAP_PROP_FRAME_HEIGHT)\n",
    "FPS = cap.get(cv2.CAP_PROP_FPS)\n",
    "delay = int(1000/FPS)\n",
    "print(w, h, FPS)"
   ]
  },
  {
   "cell_type": "code",
   "execution_count": 4,
   "metadata": {
    "scrolled": false
   },
   "outputs": [],
   "source": [
    "while 1:\n",
    "    ret, frame = cap.read()\n",
    "    if ret:\n",
    "        frame = cv2.rotate(frame,cv2.ROTATE_90_CLOCKWISE)\n",
    "        cv2.imshow(path,frame)\n",
    "        \n",
    "        hsv = cv2.cvtColor(frame,cv2.COLOR_BGR2HSV)\n",
    "        #_,f_bin = cv2.threshold(gray,127,255,0)\n",
    "        #cv2.imshow('binary',f_bin)\n",
    "        lowgreen = np.array([25,15,15])\n",
    "        topgreen = np.array([105,255,255])\n",
    "        mask = cv2.inRange(hsv,lowgreen,topgreen)\n",
    "        mask = cv2.blur(mask,(7,7))\n",
    "        _,mask = cv2.threshold(mask,127,255,0)\n",
    "        maskIMG = cv2.bitwise_and(frame,frame,mask=mask)\n",
    "        cv2.imshow('binary',mask)\n",
    "        \n",
    "        contous,_ = cv2.findContours(mask,cv2.RETR_LIST,cv2.CHAIN_APPROX_SIMPLE)\n",
    "        for cnt in contous:\n",
    "            cv2.drawContours(frame,[cnt],0,(255,0,0),2)\n",
    "            x,y,w,h = cv2.boundingRect(cnt)\n",
    "            cv2.rectangle(frame,(x,y),(x+w,y+h),(0,255,0),2)\n",
    "        cv2.imshow('contous',frame)\n",
    "        \n",
    "        if cv2.waitKey(delay) == ord('q'):\n",
    "            break\n",
    "    else: \n",
    "        break\n",
    "\n",
    "cap.release()\n",
    "cv2.destroyAllWindows()"
   ]
  },
  {
   "cell_type": "code",
   "execution_count": null,
   "metadata": {},
   "outputs": [],
   "source": []
  }
 ],
 "metadata": {
  "kernelspec": {
   "display_name": "Python 3",
   "language": "python",
   "name": "python3"
  },
  "language_info": {
   "codemirror_mode": {
    "name": "ipython",
    "version": 3
   },
   "file_extension": ".py",
   "mimetype": "text/x-python",
   "name": "python",
   "nbconvert_exporter": "python",
   "pygments_lexer": "ipython3",
   "version": "3.7.9"
  }
 },
 "nbformat": 4,
 "nbformat_minor": 4
}
